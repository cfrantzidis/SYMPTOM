{
 "cells": [
  {
   "cell_type": "code",
   "execution_count": 1,
   "id": "217ccbbb-c474-4e7f-adb4-45e3eb6a2f82",
   "metadata": {},
   "outputs": [
    {
     "name": "stdout",
     "output_type": "stream",
     "text": [
      "WARNING:tensorflow:From C:\\Users\\chris\\AppData\\Local\\Programs\\Python\\Python312\\Lib\\site-packages\\tf_keras\\src\\losses.py:2976: The name tf.losses.sparse_softmax_cross_entropy is deprecated. Please use tf.compat.v1.losses.sparse_softmax_cross_entropy instead.\n",
      "\n",
      "Successful import\n"
     ]
    }
   ],
   "source": [
    "import pandas as pd\n",
    "from sklearn.preprocessing import LabelEncoder\n",
    "from sklearn.metrics import classification_report\n",
    "from transformers import DistilBertTokenizerFast, DistilBertForSequenceClassification\n",
    "from transformers import Trainer, TrainingArguments\n",
    "from datasets import Dataset\n",
    "import torch\n",
    "print(\"Successful import\")"
   ]
  },
  {
   "cell_type": "code",
   "execution_count": 2,
   "id": "39adb6e6-73e9-4fb2-be2a-545b15424a89",
   "metadata": {},
   "outputs": [
    {
     "name": "stdout",
     "output_type": "stream",
     "text": [
      "Initial shape: (6799, 2)\n"
     ]
    }
   ],
   "source": [
    "# Step 1: Load and preprocess data\n",
    "df = pd.read_csv('data21.txt', sep='\\t', quoting=3, engine ='python',on_bad_lines='skip')\n",
    "df.dropna(subset=['Text','Cause'],inplace=True)\n",
    "print('Initial shape:', df.shape)"
   ]
  },
  {
   "cell_type": "code",
   "execution_count": 3,
   "id": "fff95b59-766d-40bb-8ad0-f10b9c5b6097",
   "metadata": {},
   "outputs": [],
   "source": [
    "# Step 2: Encode the labels\n",
    "label_encoder = LabelEncoder()\n",
    "df['label'] = label_encoder.fit_transform(df['Cause'])"
   ]
  },
  {
   "cell_type": "code",
   "execution_count": 4,
   "id": "58341d2a-a7e3-44d4-bb32-1b5cbade2769",
   "metadata": {},
   "outputs": [
    {
     "name": "stdout",
     "output_type": "stream",
     "text": [
      "Successful Tokenization\n"
     ]
    }
   ],
   "source": [
    "# Step 3: Tokenization\n",
    "tokenizer = DistilBertTokenizerFast.from_pretrained('distilbert-base-uncased')\n",
    "\n",
    "def tokenize_function(example):\n",
    "    return tokenizer(example['Text'], truncation=True, padding='max_length', max_length=128)\n",
    "print(\"Successful Tokenization\")"
   ]
  },
  {
   "cell_type": "code",
   "execution_count": 5,
   "id": "65c59f18-dd85-4858-8812-546d1967ea62",
   "metadata": {},
   "outputs": [
    {
     "data": {
      "application/vnd.jupyter.widget-view+json": {
       "model_id": "517246e467a9457287921f9c0af0b123",
       "version_major": 2,
       "version_minor": 0
      },
      "text/plain": [
       "Map:   0%|          | 0/6799 [00:00<?, ? examples/s]"
      ]
     },
     "metadata": {},
     "output_type": "display_data"
    },
    {
     "name": "stdout",
     "output_type": "stream",
     "text": [
      "Successful Conversion\n"
     ]
    }
   ],
   "source": [
    "# Step 4: Convert to Hugging Face Dataset\n",
    "dataset = Dataset.from_pandas(df[['Text', 'label']])\n",
    "tokenized_dataset = dataset.map(tokenize_function, batched=True)\n",
    "tokenized_dataset = tokenized_dataset.train_test_split(test_size=0.2)\n",
    "print(\"Successful Conversion\")"
   ]
  },
  {
   "cell_type": "code",
   "execution_count": 6,
   "id": "ef0b3fa1-9fff-476c-aa39-b94e786bcc8b",
   "metadata": {},
   "outputs": [
    {
     "name": "stderr",
     "output_type": "stream",
     "text": [
      "Some weights of DistilBertForSequenceClassification were not initialized from the model checkpoint at distilbert-base-uncased and are newly initialized: ['classifier.bias', 'classifier.weight', 'pre_classifier.bias', 'pre_classifier.weight']\n",
      "You should probably TRAIN this model on a down-stream task to be able to use it for predictions and inference.\n"
     ]
    }
   ],
   "source": [
    "# Step 5: Load model\n",
    "num_labels = len(label_encoder.classes_)\n",
    "model = DistilBertForSequenceClassification.from_pretrained('distilbert-base-uncased', num_labels=num_labels)\n"
   ]
  },
  {
   "cell_type": "code",
   "execution_count": 7,
   "id": "d19ff621-2b92-4b2e-91d4-46c9201300dc",
   "metadata": {},
   "outputs": [
    {
     "name": "stderr",
     "output_type": "stream",
     "text": [
      "C:\\Users\\chris\\AppData\\Local\\Programs\\Python\\Python312\\Lib\\site-packages\\transformers\\training_args.py:1568: FutureWarning: `evaluation_strategy` is deprecated and will be removed in version 4.46 of 🤗 Transformers. Use `eval_strategy` instead\n",
      "  warnings.warn(\n"
     ]
    }
   ],
   "source": [
    "# Step 6: Training arguments\n",
    "training_args = TrainingArguments(\n",
    "    output_dir='./results',\n",
    "    evaluation_strategy='epoch',\n",
    "    save_strategy='epoch',\n",
    "    num_train_epochs=8,\n",
    "    per_device_train_batch_size=16,\n",
    "    per_device_eval_batch_size=16,\n",
    "    learning_rate=2e-5,\n",
    "    weight_decay=0.01,\n",
    "    logging_dir='./logs',\n",
    "    load_best_model_at_end=True,\n",
    "    metric_for_best_model='f1',\n",
    ")"
   ]
  },
  {
   "cell_type": "code",
   "execution_count": 8,
   "id": "f38fc26e-0b4e-4af4-981f-ab899431e037",
   "metadata": {},
   "outputs": [],
   "source": [
    "# Step 7: Compute metrics\n",
    "import numpy as np\n",
    "from sklearn.metrics import accuracy_score, f1_score\n",
    "\n",
    "def compute_metrics(eval_pred):\n",
    "    logits, labels = eval_pred\n",
    "    predictions = np.argmax(logits, axis=1)\n",
    "    return {\n",
    "        'accuracy': accuracy_score(labels, predictions),\n",
    "        'f1': f1_score(labels, predictions, average='weighted'),\n",
    "    }"
   ]
  },
  {
   "cell_type": "code",
   "execution_count": 9,
   "id": "bbaa266d-cb1b-4525-bfd9-a17fde027aaf",
   "metadata": {},
   "outputs": [
    {
     "name": "stderr",
     "output_type": "stream",
     "text": [
      "C:\\Users\\chris\\AppData\\Local\\Temp\\ipykernel_3020\\1588889945.py:4: FutureWarning: `tokenizer` is deprecated and will be removed in version 5.0.0 for `Trainer.__init__`. Use `processing_class` instead.\n",
      "  trainer = Trainer(\n"
     ]
    },
    {
     "data": {
      "text/html": [
       "\n",
       "    <div>\n",
       "      \n",
       "      <progress value='2720' max='2720' style='width:300px; height:20px; vertical-align: middle;'></progress>\n",
       "      [2720/2720 5:18:49, Epoch 8/8]\n",
       "    </div>\n",
       "    <table border=\"1\" class=\"dataframe\">\n",
       "  <thead>\n",
       " <tr style=\"text-align: left;\">\n",
       "      <th>Epoch</th>\n",
       "      <th>Training Loss</th>\n",
       "      <th>Validation Loss</th>\n",
       "      <th>Accuracy</th>\n",
       "      <th>F1</th>\n",
       "    </tr>\n",
       "  </thead>\n",
       "  <tbody>\n",
       "    <tr>\n",
       "      <td>1</td>\n",
       "      <td>No log</td>\n",
       "      <td>0.962795</td>\n",
       "      <td>0.735294</td>\n",
       "      <td>0.732935</td>\n",
       "    </tr>\n",
       "    <tr>\n",
       "      <td>2</td>\n",
       "      <td>1.355800</td>\n",
       "      <td>0.669227</td>\n",
       "      <td>0.796324</td>\n",
       "      <td>0.797542</td>\n",
       "    </tr>\n",
       "    <tr>\n",
       "      <td>3</td>\n",
       "      <td>0.527800</td>\n",
       "      <td>0.661194</td>\n",
       "      <td>0.786765</td>\n",
       "      <td>0.786870</td>\n",
       "    </tr>\n",
       "    <tr>\n",
       "      <td>4</td>\n",
       "      <td>0.527800</td>\n",
       "      <td>0.746301</td>\n",
       "      <td>0.792647</td>\n",
       "      <td>0.792790</td>\n",
       "    </tr>\n",
       "    <tr>\n",
       "      <td>5</td>\n",
       "      <td>0.242100</td>\n",
       "      <td>0.740342</td>\n",
       "      <td>0.802941</td>\n",
       "      <td>0.804283</td>\n",
       "    </tr>\n",
       "    <tr>\n",
       "      <td>6</td>\n",
       "      <td>0.115100</td>\n",
       "      <td>0.787868</td>\n",
       "      <td>0.796324</td>\n",
       "      <td>0.796804</td>\n",
       "    </tr>\n",
       "    <tr>\n",
       "      <td>7</td>\n",
       "      <td>0.115100</td>\n",
       "      <td>0.834848</td>\n",
       "      <td>0.787500</td>\n",
       "      <td>0.788750</td>\n",
       "    </tr>\n",
       "    <tr>\n",
       "      <td>8</td>\n",
       "      <td>0.058200</td>\n",
       "      <td>0.850850</td>\n",
       "      <td>0.791176</td>\n",
       "      <td>0.792141</td>\n",
       "    </tr>\n",
       "  </tbody>\n",
       "</table><p>"
      ],
      "text/plain": [
       "<IPython.core.display.HTML object>"
      ]
     },
     "metadata": {},
     "output_type": "display_data"
    },
    {
     "name": "stdout",
     "output_type": "stream",
     "text": [
      "Successful Training\n"
     ]
    }
   ],
   "source": [
    "from transformers import EarlyStoppingCallback\n",
    "\n",
    "# Step 8: Train\n",
    "trainer = Trainer(\n",
    "    model=model,\n",
    "    args=training_args,\n",
    "    train_dataset=tokenized_dataset['train'],\n",
    "    eval_dataset=tokenized_dataset['test'],\n",
    "    tokenizer=tokenizer,\n",
    "    compute_metrics=compute_metrics,\n",
    "    callbacks=[EarlyStoppingCallback(early_stopping_patience=3)],  # Stops if no improvement for 3 evals\n",
    ")\n",
    "\n",
    "trainer.train()\n",
    "print(\"Successful Training\")"
   ]
  },
  {
   "cell_type": "code",
   "execution_count": 10,
   "id": "84fd28b0-c8a4-45bc-a140-c01f03a3e07d",
   "metadata": {},
   "outputs": [
    {
     "data": {
      "text/html": [],
      "text/plain": [
       "<IPython.core.display.HTML object>"
      ]
     },
     "metadata": {},
     "output_type": "display_data"
    },
    {
     "name": "stdout",
     "output_type": "stream",
     "text": [
      "Evaluation: {'eval_loss': 0.7403423190116882, 'eval_accuracy': 0.8029411764705883, 'eval_f1': 0.8042827567931101, 'eval_runtime': 162.2296, 'eval_samples_per_second': 8.383, 'eval_steps_per_second': 0.524, 'epoch': 8.0}\n"
     ]
    }
   ],
   "source": [
    "# Step 9: Evaluate\n",
    "eval_results = trainer.evaluate()\n",
    "print(\"Evaluation:\", eval_results)"
   ]
  },
  {
   "cell_type": "code",
   "execution_count": 11,
   "id": "f62f7d45-f0d2-46af-86dd-4b68678b4f9f",
   "metadata": {},
   "outputs": [
    {
     "name": "stdout",
     "output_type": "stream",
     "text": [
      "\n",
      "Classification Report:\n",
      "               precision    recall  f1-score   support\n",
      "\n",
      "         0.0       0.83      0.84      0.83       198\n",
      "         1.0       0.69      0.80      0.74       162\n",
      "         2.0       0.73      0.78      0.75       125\n",
      "         3.0       0.89      0.91      0.90        97\n",
      "         4.0       0.97      0.89      0.93        35\n",
      "         5.0       0.84      0.75      0.79        79\n",
      "         6.0       0.84      0.78      0.81       158\n",
      "         7.0       0.69      0.74      0.72       129\n",
      "         8.0       0.78      0.76      0.77       113\n",
      "         9.0       0.86      0.78      0.82       170\n",
      "        10.0       0.94      0.87      0.91        94\n",
      "\n",
      "    accuracy                           0.80      1360\n",
      "   macro avg       0.82      0.81      0.82      1360\n",
      "weighted avg       0.81      0.80      0.80      1360\n",
      "\n"
     ]
    }
   ],
   "source": [
    "# Step 10: Classification report\n",
    "predictions = trainer.predict(tokenized_dataset['test'])\n",
    "y_pred = np.argmax(predictions.predictions, axis=1)\n",
    "y_true = predictions.label_ids\n",
    "target_names = [str(cls) for cls in label_encoder.classes_]\n",
    "print(\"\\nClassification Report:\\n\", classification_report(y_true, y_pred, target_names=target_names))\n"
   ]
  },
  {
   "cell_type": "code",
   "execution_count": 12,
   "id": "5be4c192-9ee2-4197-8a80-6532cf6e26db",
   "metadata": {},
   "outputs": [
    {
     "data": {
      "image/png": "[encoded data removed]",
      "text/plain": [
       "<Figure size 1000x800 with 2 Axes>"
      ]
     },
     "metadata": {},
     "output_type": "display_data"
    }
   ],
   "source": [
    "import seaborn as sns\n",
    "import matplotlib.pyplot as plt\n",
    "from sklearn.metrics import confusion_matrix\n",
    "\n",
    "# Convert class labels to string (if needed)\n",
    "target_names = [str(cls) for cls in label_encoder.classes_]\n",
    "\n",
    "# Compute confusion matrix\n",
    "cm = confusion_matrix(y_true, y_pred)\n",
    "\n",
    "# Plot\n",
    "plt.figure(figsize=(10, 8))\n",
    "sns.heatmap(cm, annot=True, fmt='d', cmap='Blues',\n",
    "            xticklabels=target_names,\n",
    "            yticklabels=target_names)\n",
    "\n",
    "plt.xlabel('Predicted')\n",
    "plt.ylabel('True')\n",
    "plt.title('Confusion Matrix')\n",
    "plt.tight_layout()\n",
    "plt.show()\n"
   ]
  },
  {
   "cell_type": "code",
   "execution_count": null,
   "id": "85ee0166-7a66-4c44-bb82-21c138aa72eb",
   "metadata": {},
   "outputs": [],
   "source": []
  },
  {
   "cell_type": "code",
   "execution_count": null,
   "id": "fc8dda09-ded7-4192-8701-5b2a1c7689b7",
   "metadata": {},
   "outputs": [],
   "source": []
  }
 ],
 "metadata": {
  "kernelspec": {
   "display_name": "Python 3 (ipykernel)",
   "language": "python",
   "name": "python3"
  },
  "language_info": {
   "codemirror_mode": {
    "name": "ipython",
    "version": 3
   },
   "file_extension": ".py",
   "mimetype": "text/x-python",
   "name": "python",
   "nbconvert_exporter": "python",
   "pygments_lexer": "ipython3",
   "version": "3.12.8"
  }
 },
 "nbformat": 4,
 "nbformat_minor": 5
}
